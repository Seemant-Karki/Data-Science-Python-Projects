{
  "nbformat": 4,
  "nbformat_minor": 0,
  "metadata": {
    "colab": {
      "provenance": [],
      "authorship_tag": "ABX9TyNV/g+EvWiz22EtuCOfjbFN"
    },
    "kernelspec": {
      "name": "python3",
      "display_name": "Python 3"
    },
    "language_info": {
      "name": "python"
    }
  },
  "cells": [
    {
      "cell_type": "markdown",
      "source": [
        "# **Predicting Student Performance**\n",
        "* https://archive.ics.uci.edu/ml/machine-learning-databases/00320/\n",
        "* Regression model is used to fit data to predict student performance in secondary school\n",
        "* Explanation of each feature of the datasets is given on the following link: *https*://archive.ics.uci.edu/ml/datasets/Student+Performance\n"
      ],
      "metadata": {
        "id": "eXdwm9WDj2bi"
      }
    },
    {
      "cell_type": "code",
      "execution_count": null,
      "metadata": {
        "id": "k0-g4EN4Y-Of"
      },
      "outputs": [],
      "source": [
        "import pandas as pd\n",
        "from sklearn.model_selection import train_test_split\n",
        "from sklearn.linear_model import LinearRegression\n",
        "from sklearn.metrics import mean_squared_error"
      ]
    },
    {
      "cell_type": "code",
      "source": [
        "data = pd.read_csv('student-mat.csv', sep=';')       # extracted student-mat.csv file from the zip folder. This contains the grades data and the performance prediction can be done now."
      ],
      "metadata": {
        "id": "2c2an8qFtKJu"
      },
      "execution_count": null,
      "outputs": []
    },
    {
      "cell_type": "code",
      "source": [
        "X = data.drop('G3', axis=1)     # G3 = target variable to predict       \n",
        "y = data['G3']"
      ],
      "metadata": {
        "id": "YqOsabZXtM5z"
      },
      "execution_count": null,
      "outputs": []
    },
    {
      "cell_type": "code",
      "source": [
        "X = pd.get_dummies(X, drop_first = True)"
      ],
      "metadata": {
        "id": "-RRjspYLu44n"
      },
      "execution_count": null,
      "outputs": []
    },
    {
      "cell_type": "code",
      "source": [
        "X_train, X_test, y_train, y_test = train_test_split(X, y, test_size =0.2, random_state = 42)"
      ],
      "metadata": {
        "id": "3yW5gsLivYIn"
      },
      "execution_count": null,
      "outputs": []
    },
    {
      "cell_type": "code",
      "source": [
        "model = LinearRegression()\n",
        "model.fit(X_train, y_train)"
      ],
      "metadata": {
        "colab": {
          "base_uri": "https://localhost:8080/"
        },
        "id": "R3gE7I4pvcyx",
        "outputId": "13103e94-2924-4fdf-a2b8-77ac8373b3a8"
      },
      "execution_count": null,
      "outputs": [
        {
          "output_type": "execute_result",
          "data": {
            "text/plain": [
              "LinearRegression()"
            ]
          },
          "metadata": {},
          "execution_count": 12
        }
      ]
    },
    {
      "cell_type": "code",
      "source": [
        "y_pred = model.predict (X_test)         # predicting grades for the data"
      ],
      "metadata": {
        "id": "ZbsgQ977vn2k"
      },
      "execution_count": null,
      "outputs": []
    },
    {
      "cell_type": "code",
      "source": [
        "mse = mean_squared_error (y_test, y_pred)\n",
        "print ('Mean squared error: ', mse)"
      ],
      "metadata": {
        "colab": {
          "base_uri": "https://localhost:8080/"
        },
        "id": "mKspTaHcvuRW",
        "outputId": "be005b85-0a1b-4cd2-a980-d28c9de9a43d"
      },
      "execution_count": null,
      "outputs": [
        {
          "output_type": "stream",
          "name": "stdout",
          "text": [
            "Mean squared error:  5.6566428332312215\n"
          ]
        }
      ]
    },
    {
      "cell_type": "markdown",
      "source": [
        "Per our output, it can be understood that on average, the squared difference between the predicted grades and the actual grades of the test set is 5.6566. \n",
        "\n",
        "Well, it suggests that the model is performing reasonably well at predicting the grades of high school students based on the input features, but there may be room for improvement with further experimentation and optimization."
      ],
      "metadata": {
        "id": "660ktV10weu8"
      }
    },
    {
      "cell_type": "code",
      "source": [],
      "metadata": {
        "id": "y5fHD8orBsdl"
      },
      "execution_count": null,
      "outputs": []
    }
  ]
}