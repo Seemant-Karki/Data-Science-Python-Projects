{
  "cells": [
    {
      "cell_type": "markdown",
      "metadata": {
        "id": "MJdfqwAPOp1H"
      },
      "source": [
        "# **Water Quality Prediction**\n",
        "\n",
        "\n",
        "* https://www.kaggle.com/datasets/adityakadiwal/water-potability\n",
        "\n",
        "\n",
        "* Three classification algorithms used to try to predict the quality of water.\n",
        "\n",
        "\n",
        "* The project contains all classification evaluation metrics with an explanation of each metrics mean"
      ]
    },
    {
      "cell_type": "code",
      "execution_count": null,
      "metadata": {
        "id": "OLg5WTLaAO6A"
      },
      "outputs": [],
      "source": [
        "import os\n",
        "os.environ['KAGGLE_CONFIG_DIR'] = '/content'"
      ]
    },
    {
      "cell_type": "code",
      "source": [
        "!kaggle datasets download -d adityakadiwal/water-potability"
      ],
      "metadata": {
        "colab": {
          "base_uri": "https://localhost:8080/"
        },
        "id": "SgKsHiuhb4NW",
        "outputId": "401031ed-283e-4791-bff1-e3edef586849"
      },
      "execution_count": null,
      "outputs": [
        {
          "output_type": "stream",
          "name": "stdout",
          "text": [
            "Downloading water-potability.zip to /content\n",
            "\r  0% 0.00/251k [00:00<?, ?B/s]\n",
            "\r100% 251k/251k [00:00<00:00, 88.4MB/s]\n"
          ]
        }
      ]
    },
    {
      "cell_type": "code",
      "source": [
        "!unzip \\*.zip && rm *.zip"
      ],
      "metadata": {
        "colab": {
          "base_uri": "https://localhost:8080/"
        },
        "id": "K0Tb5uoEbyXZ",
        "outputId": "ddda1767-e90b-4357-dfbc-2e2ab010e3c9"
      },
      "execution_count": null,
      "outputs": [
        {
          "output_type": "stream",
          "name": "stdout",
          "text": [
            "Archive:  water-potability.zip\n",
            "replace water_potability.csv? [y]es, [n]o, [A]ll, [N]one, [r]ename: y\n",
            "  inflating: water_potability.csv    \n"
          ]
        }
      ]
    },
    {
      "cell_type": "markdown",
      "source": [
        "# First classification algorithm: **Logistic Regression**"
      ],
      "metadata": {
        "id": "k0YxaPb1VHPs"
      }
    },
    {
      "cell_type": "code",
      "execution_count": null,
      "metadata": {
        "id": "5mOFz_KMHgvv"
      },
      "outputs": [],
      "source": [
        "import pandas as pd\n",
        "from sklearn.model_selection import train_test_split\n",
        "from sklearn.linear_model import LogisticRegression\n",
        "from sklearn.metrics import accuracy_score, precision_score, recall_score, f1_score, roc_auc_score\n",
        "from sklearn.impute import SimpleImputer\n",
        "from sklearn.preprocessing import StandardScaler"
      ]
    },
    {
      "cell_type": "code",
      "execution_count": null,
      "metadata": {
        "id": "ncuysfWXrf-B"
      },
      "outputs": [],
      "source": [
        "water_df = pd.read_csv(\"water_potability.csv\")"
      ]
    },
    {
      "cell_type": "code",
      "execution_count": null,
      "metadata": {
        "id": "UOMqmBeaPBja"
      },
      "outputs": [],
      "source": [
        "X = water_df.drop(\"Potability\", axis=1)\n",
        "y = water_df[\"Potability\"]\n",
        "X_train, X_test, y_train, y_test = train_test_split(X, y, test_size=0.2, random_state=42)"
      ]
    },
    {
      "cell_type": "code",
      "execution_count": null,
      "metadata": {
        "id": "Indv12E-S5Jj",
        "colab": {
          "base_uri": "https://localhost:8080/"
        },
        "outputId": "ff7a6473-f2fe-4371-8fb8-94a2dad3b936"
      },
      "outputs": [
        {
          "output_type": "stream",
          "name": "stdout",
          "text": [
            "ph                 395\n",
            "Hardness             0\n",
            "Solids               0\n",
            "Chloramines          0\n",
            "Sulfate            631\n",
            "Conductivity         0\n",
            "Organic_carbon       0\n",
            "Trihalomethanes    127\n",
            "Turbidity            0\n",
            "dtype: int64\n"
          ]
        }
      ],
      "source": [
        "print(X_train.isnull().sum())   # trying to see if there are any missing values and impute them"
      ]
    },
    {
      "cell_type": "code",
      "execution_count": null,
      "metadata": {
        "id": "ehUgumORT7iP"
      },
      "outputs": [],
      "source": [
        "mean_imputer = SimpleImputer(strategy=\"mean\")\n",
        "X_train = mean_imputer.fit_transform(X_train)\n",
        "X_test = mean_imputer.transform(X_test)"
      ]
    },
    {
      "cell_type": "code",
      "execution_count": null,
      "metadata": {
        "id": "J54ck-6oT7zC"
      },
      "outputs": [],
      "source": [
        "scaler = StandardScaler()\n",
        "X_train = scaler.fit_transform(X_train)\n",
        "X_test = scaler.transform(X_test)"
      ]
    },
    {
      "cell_type": "code",
      "execution_count": null,
      "metadata": {
        "id": "MGP5_xw3T72Q",
        "colab": {
          "base_uri": "https://localhost:8080/"
        },
        "outputId": "0abbfc40-d9e8-4927-815f-8a65165432bf"
      },
      "outputs": [
        {
          "output_type": "execute_result",
          "data": {
            "text/plain": [
              "LogisticRegression()"
            ]
          },
          "metadata": {},
          "execution_count": 66
        }
      ],
      "source": [
        "lr_model = LogisticRegression()\n",
        "lr_model.fit(X_train, y_train)"
      ]
    },
    {
      "cell_type": "code",
      "execution_count": null,
      "metadata": {
        "id": "qltuKozMT75Z",
        "colab": {
          "base_uri": "https://localhost:8080/"
        },
        "outputId": "96ceee92-def8-4e2c-a8db-6435b8e3d59c"
      },
      "outputs": [
        {
          "output_type": "stream",
          "name": "stderr",
          "text": [
            "/usr/local/lib/python3.8/dist-packages/sklearn/metrics/_classification.py:1318: UndefinedMetricWarning: Precision is ill-defined and being set to 0.0 due to no predicted samples. Use `zero_division` parameter to control this behavior.\n",
            "  _warn_prf(average, modifier, msg_start, len(result))\n"
          ]
        }
      ],
      "source": [
        "y_pred = lr_model.predict(X_test)                            # To evaluate the logistic regression model\n",
        "accuracy = accuracy_score(y_test, y_pred)\n",
        "precision = precision_score(y_test, y_pred)\n",
        "recall = recall_score(y_test, y_pred)\n",
        "f1 = f1_score(y_test, y_pred)\n",
        "roc_auc = roc_auc_score(y_test, y_pred)"
      ]
    },
    {
      "cell_type": "code",
      "execution_count": null,
      "metadata": {
        "id": "QWIGfKfwT782",
        "colab": {
          "base_uri": "https://localhost:8080/"
        },
        "outputId": "02a6cd05-2244-4ed1-9b7c-db16e5826d1e"
      },
      "outputs": [
        {
          "output_type": "stream",
          "name": "stdout",
          "text": [
            "Logistic Regression\n",
            "Accuracy:  0.6280487804878049\n",
            "Precision:  0.0\n",
            "Recall:  0.0\n",
            "F1-score:  0.0\n",
            "ROC AUC score:  0.5\n"
          ]
        }
      ],
      "source": [
        "print(\"Logistic Regression\")\n",
        "print(\"Accuracy: \", accuracy)                # Accuracy measures the proportion of correctly classified instances among all instances in the dataset\n",
        "print(\"Precision: \", precision)         \n",
        "print(\"Recall: \", recall)                    # Recall measures the proportion of true positive classifications among all actual positive instances in the dataset\n",
        "print(\"F1-score: \", f1)                      # F1-score is a harmonic mean of precision and recall that balances both measures\n",
        "print(\"ROC AUC score: \", roc_auc)            \n",
        "# ROC AUC score measures the area under the receiver operating characteristic curve which is a plot of the true positive rate against the false positive rate for different classification thresholds"
      ]
    },
    {
      "cell_type": "markdown",
      "metadata": {
        "id": "FL--fDovIL2h"
      },
      "source": [
        "Conclusion (logistic regression):\n",
        "* The prediction of water quality was poor.\n",
        "* Evaluation metrics were low.\n",
        "* We can conclude that logistic regression might not be the ideal algorithm for us here.\n"
      ]
    },
    {
      "cell_type": "markdown",
      "metadata": {
        "id": "EyvOym0XIYly"
      },
      "source": [
        "# Second classification algorithm: **Decision Trees**"
      ]
    },
    {
      "cell_type": "code",
      "execution_count": null,
      "metadata": {
        "id": "zf4E95zPHnPI"
      },
      "outputs": [],
      "source": [
        "import pandas as pd\n",
        "from sklearn.model_selection import train_test_split\n",
        "from sklearn.tree import DecisionTreeClassifier\n",
        "from sklearn.metrics import accuracy_score, precision_score, recall_score, f1_score, roc_auc_score\n",
        "from sklearn.impute import SimpleImputer\n",
        "from sklearn.preprocessing import StandardScaler"
      ]
    },
    {
      "cell_type": "code",
      "source": [
        "water_df = pd.read_csv(\"water_potability.csv\")"
      ],
      "metadata": {
        "id": "tVZehKm5Vasz"
      },
      "execution_count": null,
      "outputs": []
    },
    {
      "cell_type": "code",
      "source": [
        "X = water_df.drop(\"Potability\", axis=1)\n",
        "y = water_df[\"Potability\"]\n",
        "X_train, X_test, y_train, y_test = train_test_split(X, y, test_size= 0.2, random_state= 42)"
      ],
      "metadata": {
        "id": "OFSlqQVXVavD"
      },
      "execution_count": null,
      "outputs": []
    },
    {
      "cell_type": "code",
      "source": [
        "print(X_train.isnull().sum())"
      ],
      "metadata": {
        "colab": {
          "base_uri": "https://localhost:8080/"
        },
        "id": "nHp7qyM4Vaw3",
        "outputId": "a0b3d276-6221-47eb-db23-15b74060fe24"
      },
      "execution_count": null,
      "outputs": [
        {
          "output_type": "stream",
          "name": "stdout",
          "text": [
            "ph                 395\n",
            "Hardness             0\n",
            "Solids               0\n",
            "Chloramines          0\n",
            "Sulfate            631\n",
            "Conductivity         0\n",
            "Organic_carbon       0\n",
            "Trihalomethanes    127\n",
            "Turbidity            0\n",
            "dtype: int64\n"
          ]
        }
      ]
    },
    {
      "cell_type": "code",
      "source": [
        "mean_imputer = SimpleImputer(strategy=\"mean\")\n",
        "X_train = mean_imputer.fit_transform(X_train)\n",
        "X_test = mean_imputer.transform(X_test)"
      ],
      "metadata": {
        "id": "vFPJzkQoVayu"
      },
      "execution_count": null,
      "outputs": []
    },
    {
      "cell_type": "code",
      "source": [
        "scaler = StandardScaler()\n",
        "X_train = scaler.fit_transform(X_train)\n",
        "X_test = scaler.transform(X_test)"
      ],
      "metadata": {
        "id": "RxI43k1nVa0g"
      },
      "execution_count": null,
      "outputs": []
    },
    {
      "cell_type": "code",
      "source": [
        "dt_model = DecisionTreeClassifier(random_state = 42)\n",
        "dt_model.fit(X_train, y_train)"
      ],
      "metadata": {
        "colab": {
          "base_uri": "https://localhost:8080/"
        },
        "id": "Ag8subjYVa2g",
        "outputId": "c22096fd-95a5-4e5c-d4fe-119678bf485e"
      },
      "execution_count": null,
      "outputs": [
        {
          "output_type": "execute_result",
          "data": {
            "text/plain": [
              "DecisionTreeClassifier(random_state=42)"
            ]
          },
          "metadata": {},
          "execution_count": 75
        }
      ]
    },
    {
      "cell_type": "code",
      "source": [
        "y_pred = dt_model.predict(X_test)                                # To evaluate the decision tree model\n",
        "accuracy = accuracy_score(y_test, y_pred)\n",
        "precision = precision_score(y_test, y_pred)\n",
        "recall = recall_score(y_test, y_pred)\n",
        "f1 = f1_score(y_test, y_pred)\n",
        "roc_auc = roc_auc_score(y_test, y_pred)"
      ],
      "metadata": {
        "id": "Ca_Bru0SVa6H"
      },
      "execution_count": null,
      "outputs": []
    },
    {
      "cell_type": "code",
      "source": [
        "print(\"Decision Tree\")\n",
        "print(\"Accuracy: \", accuracy)\n",
        "print(\"Precision: \", precision)          # Precision measures the proportion of true positive classifications among all positive classifications made\n",
        "print(\"Recall: \", recall)\n",
        "print(\"F1-score: \", f1)\n",
        "print(\"ROC AUC score: \", roc_auc)"
      ],
      "metadata": {
        "colab": {
          "base_uri": "https://localhost:8080/"
        },
        "id": "d7zlhP26Vu7-",
        "outputId": "980948b0-9886-4a4d-aeaa-7543ec2c5b30"
      },
      "execution_count": null,
      "outputs": [
        {
          "output_type": "stream",
          "name": "stdout",
          "text": [
            "Decision Tree\n",
            "Accuracy:  0.5777439024390244\n",
            "Precision:  0.4412811387900356\n",
            "Recall:  0.5081967213114754\n",
            "F1-score:  0.4723809523809524\n",
            "ROC AUC score:  0.5635643800732134\n"
          ]
        }
      ]
    },
    {
      "cell_type": "markdown",
      "metadata": {
        "id": "RAjN2ypcIhHB"
      },
      "source": [
        "Conclusion (decision tree):\n",
        "* The prediction of water quality was better in comparison to logistic regression\n",
        "* However, ee can conclude that decision tree also might not be the ideal algorithm for us in this situation and another model could provide better performance."
      ]
    },
    {
      "cell_type": "markdown",
      "metadata": {
        "id": "ogJFa62yIj4Z"
      },
      "source": [
        "# Third classification algorithm: **Random Forests**"
      ]
    },
    {
      "cell_type": "code",
      "execution_count": null,
      "metadata": {
        "id": "POpqBp80IV0C"
      },
      "outputs": [],
      "source": [
        "import pandas as pd\n",
        "from sklearn.model_selection import train_test_split\n",
        "from sklearn.ensemble import RandomForestClassifier\n",
        "from sklearn.metrics import accuracy_score, precision_score, recall_score, f1_score, roc_auc_score\n",
        "from sklearn.impute import SimpleImputer\n",
        "from sklearn.preprocessing import StandardScaler"
      ]
    },
    {
      "cell_type": "code",
      "source": [
        "water_df = pd.read_csv(\"water_potability.csv\")"
      ],
      "metadata": {
        "id": "1RR8uxzKXKqn"
      },
      "execution_count": null,
      "outputs": []
    },
    {
      "cell_type": "code",
      "source": [
        "X = water_df.drop(\"Potability\", axis=1)\n",
        "y = water_df[\"Potability\"]\n",
        "X_train, X_test, y_train, y_test = train_test_split(X, y, test_size=0.2, random_state=42)"
      ],
      "metadata": {
        "id": "JjLwEkpyXK4d"
      },
      "execution_count": null,
      "outputs": []
    },
    {
      "cell_type": "code",
      "source": [
        "print(X_train.isnull().sum())"
      ],
      "metadata": {
        "colab": {
          "base_uri": "https://localhost:8080/"
        },
        "id": "V2bchRZSXLDA",
        "outputId": "7801cf98-447b-4cac-c019-075e822ec101"
      },
      "execution_count": null,
      "outputs": [
        {
          "output_type": "stream",
          "name": "stdout",
          "text": [
            "ph                 395\n",
            "Hardness             0\n",
            "Solids               0\n",
            "Chloramines          0\n",
            "Sulfate            631\n",
            "Conductivity         0\n",
            "Organic_carbon       0\n",
            "Trihalomethanes    127\n",
            "Turbidity            0\n",
            "dtype: int64\n"
          ]
        }
      ]
    },
    {
      "cell_type": "code",
      "source": [
        "mean_imputer = SimpleImputer(strategy=\"mean\")\n",
        "X_train = mean_imputer.fit_transform(X_train)\n",
        "X_test = mean_imputer.transform(X_test)"
      ],
      "metadata": {
        "id": "HIDgT3bHXLMt"
      },
      "execution_count": null,
      "outputs": []
    },
    {
      "cell_type": "code",
      "source": [
        "scaler = StandardScaler()\n",
        "X_train = scaler.fit_transform(X_train)\n",
        "X_test = scaler.transform(X_test)"
      ],
      "metadata": {
        "id": "ZiEphSB8XLVv"
      },
      "execution_count": null,
      "outputs": []
    },
    {
      "cell_type": "code",
      "source": [
        "rf_model = RandomForestClassifier(random_state=42)\n",
        "rf_model.fit(X_train, y_train)"
      ],
      "metadata": {
        "colab": {
          "base_uri": "https://localhost:8080/"
        },
        "id": "o-MrNJ5ZXLd0",
        "outputId": "46e0791c-857f-40d3-ddd0-cadd7b987950"
      },
      "execution_count": null,
      "outputs": [
        {
          "output_type": "execute_result",
          "data": {
            "text/plain": [
              "RandomForestClassifier(random_state=42)"
            ]
          },
          "metadata": {},
          "execution_count": 84
        }
      ]
    },
    {
      "cell_type": "code",
      "source": [
        "y_pred = rf_model.predict(X_test)                              # To evaluate the random forest model\n",
        "accuracy = accuracy_score(y_test, y_pred)\n",
        "precision = precision_score(y_test, y_pred)\n",
        "recall = recall_score(y_test, y_pred)\n",
        "f1 = f1_score(y_test, y_pred)\n",
        "roc_auc = roc_auc_score(y_test, y_pred)"
      ],
      "metadata": {
        "id": "AxPQKiYjXjga"
      },
      "execution_count": null,
      "outputs": []
    },
    {
      "cell_type": "code",
      "source": [
        "print(\"Random Forest\")\n",
        "print(\"Accuracy: \", accuracy)\n",
        "print(\"Precision: \", precision)\n",
        "print(\"Recall: \", recall)\n",
        "print(\"F1-score: \", f1)\n",
        "print(\"ROC AUC score: \", roc_auc)"
      ],
      "metadata": {
        "colab": {
          "base_uri": "https://localhost:8080/"
        },
        "id": "f6XjRwlmXnSW",
        "outputId": "aa34229b-a500-4281-cf52-c42222ea39e3"
      },
      "execution_count": null,
      "outputs": [
        {
          "output_type": "stream",
          "name": "stdout",
          "text": [
            "Random Forest\n",
            "Accuracy:  0.6676829268292683\n",
            "Precision:  0.589041095890411\n",
            "Recall:  0.3524590163934426\n",
            "F1-score:  0.441025641025641\n",
            "ROC AUC score:  0.6034139742161388\n"
          ]
        }
      ]
    },
    {
      "cell_type": "markdown",
      "source": [
        "Conclusion (Random Forests):\n",
        "* The prediction of water quality was better in comparison to both of the previous classification algorithms\n",
        "* Therefore, we can conclude that random forest is the better  algorithm for us in this situation comparing the three models we used."
      ],
      "metadata": {
        "id": "AHMNTif-YJdv"
      }
    }
  ],
  "metadata": {
    "colab": {
      "provenance": [],
      "mount_file_id": "1wRSA6e6Sr3BjfY79Znu62zbTbQU9-3LR",
      "authorship_tag": "ABX9TyNSsC/j3Jmfm3s/UzTK3JvX"
    },
    "kernelspec": {
      "display_name": "Python 3",
      "name": "python3"
    },
    "language_info": {
      "name": "python"
    }
  },
  "nbformat": 4,
  "nbformat_minor": 0
}